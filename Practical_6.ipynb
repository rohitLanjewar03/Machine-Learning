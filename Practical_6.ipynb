{
  "nbformat": 4,
  "nbformat_minor": 0,
  "metadata": {
    "colab": {
      "provenance": [],
      "authorship_tag": "ABX9TyMAWOW61woboFhnxJSGAChB",
      "include_colab_link": true
    },
    "kernelspec": {
      "name": "python3",
      "display_name": "Python 3"
    },
    "language_info": {
      "name": "python"
    }
  },
  "cells": [
    {
      "cell_type": "markdown",
      "metadata": {
        "id": "view-in-github",
        "colab_type": "text"
      },
      "source": [
        "<a href=\"https://colab.research.google.com/github/rohitLanjewar03/Machine-Learning/blob/main/Practical_6.ipynb\" target=\"_parent\"><img src=\"https://colab.research.google.com/assets/colab-badge.svg\" alt=\"Open In Colab\"/></a>"
      ]
    },
    {
      "cell_type": "code",
      "execution_count": 45,
      "metadata": {
        "colab": {
          "base_uri": "https://localhost:8080/"
        },
        "id": "Mkh66fP6yLUh",
        "outputId": "34c96725-d26d-4043-b3de-58aa24183219"
      },
      "outputs": [
        {
          "output_type": "stream",
          "name": "stdout",
          "text": [
            "            Name  Age  Gender Blood Type Medical Condition Date of Admission  \\\n",
            "0  Bobby JacksOn   30    Male         B-            Cancer        2024-01-31   \n",
            "1   LesLie TErRy   62    Male         A+           Obesity        2019-08-20   \n",
            "2    DaNnY sMitH   76  Female         A-           Obesity        2022-09-22   \n",
            "3   andrEw waTtS   28  Female         O+          Diabetes        2020-11-18   \n",
            "4  adrIENNE bEll   43  Female        AB+            Cancer        2022-09-19   \n",
            "\n",
            "             Doctor                    Hospital Insurance Provider  \\\n",
            "0     Matthew Smith             Sons and Miller         Blue Cross   \n",
            "1   Samantha Davies                     Kim Inc           Medicare   \n",
            "2  Tiffany Mitchell                    Cook PLC              Aetna   \n",
            "3       Kevin Wells  Hernandez Rogers and Vang,           Medicare   \n",
            "4    Kathleen Hanna                 White-White              Aetna   \n",
            "\n",
            "   Billing Amount  Room Number Admission Type Discharge Date   Medication  \\\n",
            "0    18856.281306          328         Urgent     2024-02-02  Paracetamol   \n",
            "1    33643.327287          265      Emergency     2019-08-26    Ibuprofen   \n",
            "2    27955.096079          205      Emergency     2022-10-07      Aspirin   \n",
            "3    37909.782410          450       Elective     2020-12-18    Ibuprofen   \n",
            "4    14238.317814          458         Urgent     2022-10-09   Penicillin   \n",
            "\n",
            "   Test Results  \n",
            "0        Normal  \n",
            "1  Inconclusive  \n",
            "2        Normal  \n",
            "3      Abnormal  \n",
            "4      Abnormal  \n",
            "<class 'pandas.core.frame.DataFrame'>\n",
            "RangeIndex: 55500 entries, 0 to 55499\n",
            "Data columns (total 15 columns):\n",
            " #   Column              Non-Null Count  Dtype  \n",
            "---  ------              --------------  -----  \n",
            " 0   Name                55500 non-null  object \n",
            " 1   Age                 55500 non-null  int64  \n",
            " 2   Gender              55500 non-null  object \n",
            " 3   Blood Type          55500 non-null  object \n",
            " 4   Medical Condition   55500 non-null  object \n",
            " 5   Date of Admission   55500 non-null  object \n",
            " 6   Doctor              55500 non-null  object \n",
            " 7   Hospital            55500 non-null  object \n",
            " 8   Insurance Provider  55500 non-null  object \n",
            " 9   Billing Amount      55500 non-null  float64\n",
            " 10  Room Number         55500 non-null  int64  \n",
            " 11  Admission Type      55500 non-null  object \n",
            " 12  Discharge Date      55500 non-null  object \n",
            " 13  Medication          55500 non-null  object \n",
            " 14  Test Results        55500 non-null  object \n",
            "dtypes: float64(1), int64(2), object(12)\n",
            "memory usage: 6.4+ MB\n",
            "None\n",
            "                Age  Billing Amount   Room Number\n",
            "count  55500.000000    55500.000000  55500.000000\n",
            "mean      51.539459    25539.316097    301.134829\n",
            "std       19.602454    14211.454431    115.243069\n",
            "min       13.000000    -2008.492140    101.000000\n",
            "25%       35.000000    13241.224652    202.000000\n",
            "50%       52.000000    25538.069376    302.000000\n",
            "75%       68.000000    37820.508436    401.000000\n",
            "max       89.000000    52764.276736    500.000000\n"
          ]
        }
      ],
      "source": [
        "import pandas as pd\n",
        "import numpy as np\n",
        "from sklearn.model_selection import train_test_split\n",
        "from sklearn.tree import DecisionTreeClassifier\n",
        "from sklearn.metrics import accuracy_score, classification_report\n",
        "from sklearn.preprocessing import LabelEncoder\n",
        "import matplotlib.pyplot as plt\n",
        "from sklearn.tree import plot_tree\n",
        "from sklearn import tree\n",
        "\n",
        "\n",
        "\n",
        "# Load the dataset (update the path to where you have saved the dataset)\n",
        "data = pd.read_csv('/content/healthcare_dataset.csv')\n",
        "\n",
        "# Explore the dataset\n",
        "print(data.head())\n",
        "print(data.info())\n",
        "print(data.describe())\n"
      ]
    },
    {
      "cell_type": "code",
      "source": [
        "# Check for missing values\n",
        "print(data.isnull().sum())\n",
        "\n",
        "# Drop rows with missing values (or alternatively, fill them with mean/median values)\n",
        "data = data.dropna()  # Alternatively, use data.fillna(method='ffill') or 'bfill' for imputation\n"
      ],
      "metadata": {
        "colab": {
          "base_uri": "https://localhost:8080/"
        },
        "id": "QZ42arz51ATy",
        "outputId": "35e36d74-c837-40f9-8a2c-f18b855eb01e"
      },
      "execution_count": 37,
      "outputs": [
        {
          "output_type": "stream",
          "name": "stdout",
          "text": [
            "Name                  0\n",
            "Age                   0\n",
            "Gender                0\n",
            "Blood Type            0\n",
            "Medical Condition     0\n",
            "Date of Admission     0\n",
            "Doctor                0\n",
            "Hospital              0\n",
            "Insurance Provider    0\n",
            "Billing Amount        0\n",
            "Room Number           0\n",
            "Admission Type        0\n",
            "Discharge Date        0\n",
            "Medication            0\n",
            "Test Results          0\n",
            "dtype: int64\n"
          ]
        }
      ]
    },
    {
      "cell_type": "code",
      "source": [
        "label_encoder = LabelEncoder()\n",
        "\n",
        "categorical_columns = ['Medical Condition',\n",
        "                         'Test Results']\n",
        "\n",
        "for col in categorical_columns:\n",
        "    data[col] = label_encoder.fit_transform(data[col])\n",
        "\n",
        "X = data[['Medication', 'Test Results']]\n",
        "y = data['Medical Condition']\n",
        "\n",
        "X_train, X_test, y_train, y_test = train_test_split(X, y, test_size=0.2, random_state=42)\n",
        "\n",
        "# Train the DecisionTreeClassifier\n",
        "model = DecisionTreeClassifier(criterion=\"gini\", max_depth=5,random_state=42)\n",
        "model = model.fit(X, y)\n",
        "\n",
        "# Make predictions\n",
        "y_pred = model.predict(X_test)\n",
        "\n",
        "# Evaluate the model\n",
        "print(\"Accuracy:\", accuracy_score(y_test, y_pred))\n",
        "print(\"Classification Report:\")\n",
        "print(classification_report(y_test, y_pred))\n",
        "\n",
        "tree.plot_tree(model, feature_names=categorical_columns)\n"
      ],
      "metadata": {
        "colab": {
          "base_uri": "https://localhost:8080/",
          "height": 1000
        },
        "id": "68YaoY0v1FWQ",
        "outputId": "47c1ee93-aaa2-49d9-91bb-6e9523faa5ba"
      },
      "execution_count": 56,
      "outputs": [
        {
          "output_type": "stream",
          "name": "stdout",
          "text": [
            "Accuracy: 0.18153153153153154\n",
            "Classification Report:\n",
            "              precision    recall  f1-score   support\n",
            "\n",
            "           0       0.19      0.22      0.20      1915\n",
            "           1       0.18      0.22      0.20      1847\n",
            "           2       0.17      0.21      0.19      1871\n",
            "           3       0.18      0.14      0.16      1822\n",
            "           4       0.18      0.23      0.21      1788\n",
            "           5       0.18      0.07      0.10      1857\n",
            "\n",
            "    accuracy                           0.18     11100\n",
            "   macro avg       0.18      0.18      0.18     11100\n",
            "weighted avg       0.18      0.18      0.18     11100\n",
            "\n"
          ]
        },
        {
          "output_type": "execute_result",
          "data": {
            "text/plain": [
              "[Text(0.4485294117647059, 0.9166666666666666, 'Test Results <= 0.5\\ngini = 0.833\\nsamples = 55500\\nvalue = [9308, 9185, 9227, 9304, 9245, 9231]'),\n",
              " Text(0.17647058823529413, 0.75, 'Medical Condition <= 0.5\\ngini = 0.833\\nsamples = 18627\\nvalue = [3188, 3009, 3118, 3168, 3012, 3132]'),\n",
              " Text(0.3125, 0.8333333333333333, 'True  '),\n",
              " Text(0.11764705882352941, 0.5833333333333334, 'gini = 0.833\\nsamples = 3732\\nvalue = [667, 571, 614, 637, 612, 631]'),\n",
              " Text(0.23529411764705882, 0.5833333333333334, 'Medical Condition <= 3.5\\ngini = 0.833\\nsamples = 14895\\nvalue = [2521, 2438, 2504, 2531, 2400, 2501]'),\n",
              " Text(0.17647058823529413, 0.4166666666666667, 'Medical Condition <= 2.5\\ngini = 0.833\\nsamples = 11191\\nvalue = [1879.0, 1833.0, 1891.0, 1912.0, 1828.0, 1848.0]'),\n",
              " Text(0.11764705882352941, 0.25, 'Medical Condition <= 1.5\\ngini = 0.833\\nsamples = 7454\\nvalue = [1218, 1223, 1259, 1287, 1217, 1250]'),\n",
              " Text(0.058823529411764705, 0.08333333333333333, 'gini = 0.833\\nsamples = 3747\\nvalue = [636, 593, 644, 636, 602, 636]'),\n",
              " Text(0.17647058823529413, 0.08333333333333333, 'gini = 0.833\\nsamples = 3707\\nvalue = [582, 630, 615, 651, 615, 614]'),\n",
              " Text(0.23529411764705882, 0.25, 'gini = 0.833\\nsamples = 3737\\nvalue = [661, 610, 632, 625, 611, 598]'),\n",
              " Text(0.29411764705882354, 0.4166666666666667, 'gini = 0.833\\nsamples = 3704\\nvalue = [642, 605, 613, 619, 572, 653]'),\n",
              " Text(0.7205882352941176, 0.75, 'Medical Condition <= 3.5\\ngini = 0.833\\nsamples = 36873\\nvalue = [6120, 6176, 6109, 6136, 6233, 6099]'),\n",
              " Text(0.5845588235294118, 0.8333333333333333, '  False'),\n",
              " Text(0.5588235294117647, 0.5833333333333334, 'Medical Condition <= 0.5\\ngini = 0.833\\nsamples = 29509\\nvalue = [4896, 4936, 4929, 4874, 5015, 4859]'),\n",
              " Text(0.4117647058823529, 0.4166666666666667, 'Test Results <= 1.5\\ngini = 0.833\\nsamples = 7362\\nvalue = [1251, 1231, 1172, 1221, 1253, 1234]'),\n",
              " Text(0.35294117647058826, 0.25, 'gini = 0.833\\nsamples = 3624\\nvalue = [644, 611, 576, 602, 590, 601]'),\n",
              " Text(0.47058823529411764, 0.25, 'gini = 0.833\\nsamples = 3738\\nvalue = [607, 620, 596, 619, 663, 633]'),\n",
              " Text(0.7058823529411765, 0.4166666666666667, 'Medical Condition <= 2.5\\ngini = 0.833\\nsamples = 22147\\nvalue = [3645.0, 3705.0, 3757.0, 3653.0, 3762.0, 3625.0]'),\n",
              " Text(0.5882352941176471, 0.25, 'Medical Condition <= 1.5\\ngini = 0.833\\nsamples = 14813\\nvalue = [2429, 2427, 2536, 2467, 2524, 2430]'),\n",
              " Text(0.5294117647058824, 0.08333333333333333, 'gini = 0.833\\nsamples = 7380\\nvalue = [1186, 1234, 1229, 1225, 1291, 1215]'),\n",
              " Text(0.6470588235294118, 0.08333333333333333, 'gini = 0.833\\nsamples = 7433\\nvalue = [1243, 1193, 1307, 1242, 1233, 1215]'),\n",
              " Text(0.8235294117647058, 0.25, 'Test Results <= 1.5\\ngini = 0.833\\nsamples = 7334\\nvalue = [1216, 1278, 1221, 1186, 1238, 1195]'),\n",
              " Text(0.7647058823529411, 0.08333333333333333, 'gini = 0.833\\nsamples = 3681\\nvalue = [600, 649, 614, 605, 612, 601]'),\n",
              " Text(0.8823529411764706, 0.08333333333333333, 'gini = 0.833\\nsamples = 3653\\nvalue = [616, 629, 607, 581, 626, 594]'),\n",
              " Text(0.8823529411764706, 0.5833333333333334, 'Test Results <= 1.5\\ngini = 0.833\\nsamples = 7364\\nvalue = [1224, 1240, 1180, 1262, 1218, 1240]'),\n",
              " Text(0.8235294117647058, 0.4166666666666667, 'gini = 0.833\\nsamples = 3660\\nvalue = [613, 601, 607, 624, 604, 611]'),\n",
              " Text(0.9411764705882353, 0.4166666666666667, 'gini = 0.833\\nsamples = 3704\\nvalue = [611, 639, 573, 638, 614, 629]')]"
            ]
          },
          "metadata": {},
          "execution_count": 56
        },
        {
          "output_type": "display_data",
          "data": {
            "text/plain": [
              "<Figure size 640x480 with 1 Axes>"
            ],
            "image/png": "[encoded data removed]"
          },
          "metadata": {}
        }
      ]
    }
  ]
}