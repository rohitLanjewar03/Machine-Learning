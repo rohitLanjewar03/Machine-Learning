{
  "nbformat": 4,
  "nbformat_minor": 0,
  "metadata": {
    "colab": {
      "provenance": [],
      "authorship_tag": "ABX9TyN6PObnn6GZRCq4X8Br4xqB",
      "include_colab_link": true
    },
    "kernelspec": {
      "name": "python3",
      "display_name": "Python 3"
    },
    "language_info": {
      "name": "python"
    }
  },
  "cells": [
    {
      "cell_type": "markdown",
      "metadata": {
        "id": "view-in-github",
        "colab_type": "text"
      },
      "source": [
        "<a href=\"https://colab.research.google.com/github/rohitLanjewar03/Machine-Learning/blob/main/ML_P02.ipynb\" target=\"_parent\"><img src=\"https://colab.research.google.com/assets/colab-badge.svg\" alt=\"Open In Colab\"/></a>"
      ]
    },
    {
      "cell_type": "code",
      "execution_count": null,
      "metadata": {
        "colab": {
          "base_uri": "https://localhost:8080/"
        },
        "id": "PGFh9Ms2WMEx",
        "outputId": "fc8b6767-13b5-41c4-f7a8-1353407de998"
      },
      "outputs": [
        {
          "output_type": "stream",
          "name": "stdout",
          "text": [
            "   Roll No.  Subject 1  Subject 2  Subject 3\n",
            "0         1         82         78         78\n",
            "1         2         89         54         54\n",
            "2         3         96        100         98\n",
            "3         4         84         89         58\n",
            "4         5         75         78         57\n"
          ]
        }
      ],
      "source": [
        "\n",
        "import pandas as pd\n",
        "filepath = r\"/content/studentData.csv\"\n",
        "df = pd.read_csv(filepath)\n",
        "print(df.head())"
      ]
    },
    {
      "cell_type": "code",
      "source": [
        "def calculate_total(row): return row['Subject 1'] + row['Subject 2'] + row['Subject 3']\n",
        "df['Total Score'] = df.apply(calculate_total, axis=1)\n",
        "print(df.head())"
      ],
      "metadata": {
        "colab": {
          "base_uri": "https://localhost:8080/"
        },
        "id": "vGgOVzulbNVw",
        "outputId": "dafbad30-bcfa-46a4-d7a9-4e35f13cd77d"
      },
      "execution_count": null,
      "outputs": [
        {
          "output_type": "stream",
          "name": "stdout",
          "text": [
            "   Roll No.  Subject 1  Subject 2  Subject 3  Total Score\n",
            "0         1         82         78         78          238\n",
            "1         2         89         54         54          197\n",
            "2         3         96        100         98          294\n",
            "3         4         84         89         58          231\n",
            "4         5         75         78         57          210\n"
          ]
        }
      ]
    },
    {
      "cell_type": "code",
      "source": [
        "new_filepath = r\"/content/updatedStudentData.csv\"\n",
        "df.to_csv(new_filepath, index=False)\n",
        "print(f\"Updated data exported to {new_filepath}\")"
      ],
      "metadata": {
        "colab": {
          "base_uri": "https://localhost:8080/"
        },
        "id": "hGdaegbtcGeH",
        "outputId": "89f75b63-ce86-452a-b1e1-c304a8036e77"
      },
      "execution_count": null,
      "outputs": [
        {
          "output_type": "stream",
          "name": "stdout",
          "text": [
            "Updated data exported to /content/updatedStudentData.csv\n"
          ]
        }
      ]
    }
  ]
}